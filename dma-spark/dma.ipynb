{
 "cells": [
  {
   "cell_type": "markdown",
   "id": "6f91686d-5907-436b-a428-786dc0257511",
   "metadata": {},
   "source": [
    "### Start spark cluster"
   ]
  },
  {
   "cell_type": "code",
   "execution_count": 19,
   "id": "f10082fa-3df5-45af-a7de-80422089ba8f",
   "metadata": {},
   "outputs": [],
   "source": [
    "import pyspark\n",
    "from pyspark.sql import SparkSession\n",
    "\n",
    "from pyspark.sql.functions import *\n",
    "import matplotlib.pyplot as plt"
   ]
  },
  {
   "cell_type": "code",
   "execution_count": 20,
   "id": "37d4cb64-ed90-439b-a227-febe18b82d7c",
   "metadata": {},
   "outputs": [],
   "source": [
    "import pyspark.pandas as ps #for plotting"
   ]
  },
  {
   "cell_type": "code",
   "execution_count": 2,
   "id": "a9c09504-8eeb-4074-b8a4-55da805c0ebd",
   "metadata": {},
   "outputs": [],
   "source": [
    "spark =SparkSession.builder.getOrCreate()\n",
    "spark = SparkSession.builder.appName('Practice').getOrCreate()"
   ]
  },
  {
   "cell_type": "code",
   "execution_count": 3,
   "id": "c368d83a-5191-4c11-b2b1-fb63f2586e74",
   "metadata": {},
   "outputs": [
    {
     "name": "stdout",
     "output_type": "stream",
     "text": [
      "3.2.1\n"
     ]
    },
    {
     "data": {
      "text/html": [
       "\n",
       "            <div>\n",
       "                <p><b>SparkSession - in-memory</b></p>\n",
       "                \n",
       "        <div>\n",
       "            <p><b>SparkContext</b></p>\n",
       "\n",
       "            <p><a href=\"http://kinxps:4040\">Spark UI</a></p>\n",
       "\n",
       "            <dl>\n",
       "              <dt>Version</dt>\n",
       "                <dd><code>v3.2.1</code></dd>\n",
       "              <dt>Master</dt>\n",
       "                <dd><code>local[*]</code></dd>\n",
       "              <dt>AppName</dt>\n",
       "                <dd><code>pyspark-shell</code></dd>\n",
       "            </dl>\n",
       "        </div>\n",
       "        \n",
       "            </div>\n",
       "        "
      ],
      "text/plain": [
       "<pyspark.sql.session.SparkSession at 0x2c557b27508>"
      ]
     },
     "execution_count": 3,
     "metadata": {},
     "output_type": "execute_result"
    }
   ],
   "source": [
    "print(pyspark.__version__)\n",
    "spark"
   ]
  },
  {
   "cell_type": "markdown",
   "id": "8b79b0aa-9a99-4b62-acdd-51bacb647d56",
   "metadata": {},
   "source": [
    "### Import data and join train and train labels"
   ]
  },
  {
   "cell_type": "code",
   "execution_count": 10,
   "id": "a826f302-4f59-4790-8804-d48947348cdb",
   "metadata": {},
   "outputs": [],
   "source": [
    "train_df = spark.read.csv('../train_data.csv', header=True)"
   ]
  },
  {
   "cell_type": "code",
   "execution_count": 12,
   "id": "0fd14587-1881-4ba0-8d11-7c4039f05c99",
   "metadata": {},
   "outputs": [],
   "source": [
    "train_labels = spark.read.csv('../train_labels.csv', header=True)"
   ]
  },
  {
   "cell_type": "code",
   "execution_count": 29,
   "id": "e9d7169a-d9e0-4428-a137-313e12960a6a",
   "metadata": {},
   "outputs": [],
   "source": [
    "df = train_df.join(train_labels, \\\n",
    "                   on = ['customer_ID'], \\\n",
    "                   how='left')"
   ]
  },
  {
   "cell_type": "markdown",
   "id": "970c642b-e317-4ba7-beb2-6fb6a4f09f6e",
   "metadata": {},
   "source": [
    "### Basic statistics of the data"
   ]
  },
  {
   "cell_type": "markdown",
   "id": "c14b0942-dc1f-416a-85fa-a798fd401d13",
   "metadata": {},
   "source": [
    "##### Shape of data"
   ]
  },
  {
   "cell_type": "code",
   "execution_count": 32,
   "id": "b81bd68f-1a40-41bf-84be-b6bd89aaa176",
   "metadata": {},
   "outputs": [
    {
     "name": "stdout",
     "output_type": "stream",
     "text": [
      "5531451, 191\n"
     ]
    }
   ],
   "source": [
    "print(f'{df.count()}, {len(df.columns)}')"
   ]
  },
  {
   "cell_type": "markdown",
   "id": "3f4a07ee-a0a0-466d-b31a-5c3c4c3a7fd7",
   "metadata": {},
   "source": [
    "##### Check column data types"
   ]
  },
  {
   "cell_type": "code",
   "execution_count": 40,
   "id": "a1ad31c7-ec20-4e17-a461-e0999651aac6",
   "metadata": {},
   "outputs": [
    {
     "name": "stdout",
     "output_type": "stream",
     "text": [
      "Counter({'string': 191})\n"
     ]
    }
   ],
   "source": [
    "from collections import Counter\n",
    "print(Counter((x[1] for x in df.dtypes)))"
   ]
  },
  {
   "cell_type": "markdown",
   "id": "adf3605b-8703-4053-be64-7ff4d6812423",
   "metadata": {},
   "source": [
    "##### Distribution of target"
   ]
  },
  {
   "cell_type": "code",
   "execution_count": 30,
   "id": "482c0c60-e6fc-4457-a604-204906bda802",
   "metadata": {},
   "outputs": [
    {
     "name": "stdout",
     "output_type": "stream",
     "text": [
      "+------+-------+\n",
      "|target|  count|\n",
      "+------+-------+\n",
      "|     0|4153582|\n",
      "|     1|1377869|\n",
      "+------+-------+\n",
      "\n"
     ]
    }
   ],
   "source": [
    "df.groupby('target').count().show()"
   ]
  },
  {
   "cell_type": "markdown",
   "id": "2480292a-77ac-4ab8-86f0-27d3cc6277e1",
   "metadata": {},
   "source": [
    "#### Categorical variables"
   ]
  },
  {
   "cell_type": "code",
   "execution_count": 34,
   "id": "bcdc0b3c-2e47-4bd2-8608-5ecd4e7173f0",
   "metadata": {},
   "outputs": [],
   "source": [
    "cat_vars = ['B_30', 'B_38', 'D_114', 'D_116', 'D_117', 'D_120', 'D_126', 'D_63', 'D_64', 'D_66', 'D_68']"
   ]
  },
  {
   "cell_type": "code",
   "execution_count": 37,
   "id": "068e32e7-74bb-4aa3-8a57-6d8bd24bcf0f",
   "metadata": {},
   "outputs": [
    {
     "name": "stdout",
     "output_type": "stream",
     "text": [
      "+----+----+-----+-----+-----+-----+-----+----+----+----+----+\n",
      "|B_30|B_38|D_114|D_116|D_117|D_120|D_126|D_63|D_64|D_66|D_68|\n",
      "+----+----+-----+-----+-----+-----+-----+----+----+----+----+\n",
      "| 1.0| 4.0|  0.0|  0.0|  3.0|  0.0|  0.0|  CO|   U|null| 5.0|\n",
      "| 1.0| 4.0|  0.0|  0.0|  3.0|  0.0|  0.0|  CO|   R|null| 5.0|\n",
      "| 1.0| 4.0|  0.0|  0.0| -1.0|  0.0|  0.0|  CO|   R|null| 5.0|\n",
      "| 1.0| 4.0|  0.0|  0.0| -1.0|  0.0|  0.0|  CO|   R|null| 4.0|\n",
      "| 1.0| 4.0|  0.0|  0.0| -1.0|  0.0|  0.0|  CO|   U|null| 4.0|\n",
      "+----+----+-----+-----+-----+-----+-----+----+----+----+----+\n",
      "only showing top 5 rows\n",
      "\n"
     ]
    }
   ],
   "source": [
    "df.select(cat_vars).show(5)"
   ]
  },
  {
   "cell_type": "code",
   "execution_count": 42,
   "id": "15775e36-4b1c-49bc-ac98-b0d98068e181",
   "metadata": {},
   "outputs": [
    {
     "name": "stdout",
     "output_type": "stream",
     "text": [
      "B_30: 4\n",
      "B_38: 8\n",
      "D_114: 3\n",
      "D_116: 3\n",
      "D_117: 8\n",
      "D_120: 3\n",
      "D_126: 4\n",
      "D_63: 6\n",
      "D_64: 5\n",
      "D_66: 3\n",
      "D_68: 8\n"
     ]
    }
   ],
   "source": [
    "for col in cat_vars:\n",
    "    print(f'{col}: {df.select(col).distinct().count()}')"
   ]
  },
  {
   "cell_type": "code",
   "execution_count": null,
   "id": "a1abdbf1-fbfc-417c-b561-3d1899df6a82",
   "metadata": {},
   "outputs": [],
   "source": []
  },
  {
   "cell_type": "code",
   "execution_count": null,
   "id": "8e779727-2940-4422-bbc1-47469bab697b",
   "metadata": {},
   "outputs": [],
   "source": []
  }
 ],
 "metadata": {
  "kernelspec": {
   "display_name": "Python 3",
   "language": "python",
   "name": "python3"
  },
  "language_info": {
   "codemirror_mode": {
    "name": "ipython",
    "version": 3
   },
   "file_extension": ".py",
   "mimetype": "text/x-python",
   "name": "python",
   "nbconvert_exporter": "python",
   "pygments_lexer": "ipython3",
   "version": "3.7.7"
  }
 },
 "nbformat": 4,
 "nbformat_minor": 5
}
